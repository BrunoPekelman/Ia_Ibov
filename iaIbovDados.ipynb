{
 "cells": [
  {
   "cell_type": "code",
   "execution_count": null,
   "metadata": {},
   "outputs": [],
   "source": [
    "import pandas as pd\n",
    "import os"
   ]
  },
  {
   "cell_type": "code",
   "execution_count": null,
   "metadata": {},
   "outputs": [],
   "source": [
    "\n",
    "empresas = [\"ABEV3\", \"AZUL4\", \"BTOW3\", \"B3SA3\", \"BBSE3\", \"BRML3\", \"BBDC4\", \"BRAP4\", \"BBAS3\", \"BRKM5\", \"BRFS3\", \"BPAC11\", \"CRFB3\", \"CCRO3\", \"CMIG4\", \"HGTX3\", \"CIEL3\", \"COGN3\", \"CPLE6\", \"CSAN3\", \"CPFE3\", \"CVCB3\", \"CYRE3\", \"ECOR3\", \"ELET6\", \"EMBR3\", \"ENBR3\", \"ENGI11\", \"ENEV3\", \"EGIE3\", \"EQTL3\", \"EZTC3\", \"FLRY3\", \"GGBR4\", \"GOAU4\", \"GOLL4\", \"NTCO3\", \"HAPV3\", \"HYPE3\", \"IGTA3\", \"GNDI3\", \"ITSA4\", \"ITUB4\", \"JBSS3\", \"JHSF3\", \"KLBN11\", \"RENT3\", \"LCAM3\", \"LAME4\", \"LREN3\", \"MGLU3\", \"MRFG3\", \"BEEF3\", \"MRVE3\", \"MULT3\", \"PCAR3\", \"PETR4\", \"BRDT3\", \"PRIO3\", \"QUAL3\", \"RADL3\", \"RAIL3\", \"SBSP3\", \"SANB11\", \"CSNA3\", \"SULA11\", \"SUZB3\", \"TAEE11\", \"VIVT3\", \"TIMS3\", \"TOTS3\", \"UGPA3\", \"USIM5\", \"VALE3\", \"VVAR3\", \"WEGE3\", \"YDUQ3\"]\n",
    "\n",
    "fundamentos = {}\n",
    "arquivos = os.listdir('balancos')\n",
    "\n",
    "print(len(empresas))"
   ]
  },
  {
   "cell_type": "code",
   "execution_count": null,
   "id": "d3375301",
   "metadata": {
    "scrolled": true
   },
   "outputs": [],
   "source": [
    "for arquivo in arquivos:\n",
    "    nome = arquivo[-9:-4]\n",
    "    if '11' in nome:\n",
    "        nome = arquivo[-10:-4]\n",
    "        print(nome)\n",
    "    if nome in empresas:\n",
    "        #pegar o balanço da empresa\n",
    "        balanco = pd.read_excel(f'balancos/{arquivo}', sheet_name=0)\n",
    "        #1° coluna e colocar titulo com o nome da empresa\n",
    "        balanco.iloc[0, 0] = nome\n",
    "        #pegar 1° linha e tornar cabeçalho\n",
    "        balanco.columns = balanco.iloc[0]\n",
    "        balanco = balanco[1:]\n",
    "        #pegar 1° coluna (ja com nome da empresa) como indice\n",
    "        balanco = balanco.set_index(nome)\n",
    "        \n",
    "        \n",
    "        #DRE\n",
    "        \n",
    "        dre = pd.read_excel(f'balancos/{arquivo}', sheet_name=1)\n",
    "        #1° coluna e colocar titulo com o nome da empresa\n",
    "        dre.iloc[0, 0] = nome\n",
    "        #pegar 1° linha e tornar cabeçalho\n",
    "        dre.columns = dre.iloc[0]\n",
    "        dre = dre[1:]\n",
    "        #pegar 1° coluna (ja com nome da empresa) como indice\n",
    "        dre = dre.set_index(nome)\n",
    "        fundamentos[nome]=pd.concat([balanco,dre])\n",
    "\n",
    "\n",
    "\n",
    "\n",
    "\n",
    "\n",
    "\n",
    "\n",
    "\n"
   ]
  },
  {
   "cell_type": "code",
   "execution_count": null,
   "metadata": {},
   "outputs": [],
   "source": [
    "cotacoes_df = pd.read_excel(\"Cotacoes.xlsx\")\n",
    "cotacoes = {}\n",
    "for empresa in cotacoes_df[\"Empresa\"].unique():\n",
    "    cotacoes[empresa] = cotacoes_df.loc[cotacoes_df['Empresa']==empresa, :]\n",
    "\n",
    "display(cotacoes['ABEV3'])"
   ]
  },
  {
   "cell_type": "code",
   "execution_count": null,
   "metadata": {},
   "outputs": [],
   "source": [
    "for empresa in empresas:\n",
    "    if cotacoes[empresa].isnull().values.any():\n",
    "        cotacoes.pop(empresa)\n",
    "        fundamentos.pop(empresa)\n",
    "\n",
    "empresas = list(cotacoes.keys())\n",
    "print(len(empresas))"
   ]
  },
  {
   "cell_type": "code",
   "execution_count": null,
   "id": "41a074fa",
   "metadata": {},
   "outputs": [],
   "source": [
    "#cotaçoes data p/ indice\n",
    "#fundamentos:\n",
    "    #trocar linhas / colunas\n",
    "    #tratar as datas para formato de data do python\n",
    "    #juntar os fundamentos com a coluna Adj Close das cotacoes\n",
    "\n",
    "for empresa in fundamentos: \n",
    "    tabela = fundamentos[empresa].T#.T troca linha por coluna\n",
    "    tabela.index = pd.to_datetime(tabela.index, format=\"%d/%m/%Y\")\n",
    "    tabela_cotacoes = cotacoes[empresa].set_index(\"Date\")\n",
    "    tabela_cotacoes = tabela_cotacoes[[\"Adj Close\"]]\n",
    "    \n",
    "    tabela = tabela.merge(tabela_cotacoes, right_index=True, left_index=True)\n",
    "    tabela.index.name = empresa\n",
    "    fundamentos[empresa] = tabela\n",
    "display(fundamentos['ABEV3'])\n",
    "    "
   ]
  },
  {
   "cell_type": "code",
   "execution_count": null,
   "metadata": {},
   "outputs": [],
   "source": [
    "#REMOVER DA ANALISE TABELAS QUE TEM COLUNAS DIFERENTES\n",
    "\n",
    "colunas = list(fundamentos[\"ABEV3\"].columns)\n",
    "\n",
    "for empresa in empresas:\n",
    "    if set(colunas) != set(fundamentos[empresa].columns):\n",
    "        fundamentos.pop(empresa)\n",
    "print(len(fundamentos))\n"
   ]
  },
  {
   "cell_type": "code",
   "execution_count": null,
   "metadata": {},
   "outputs": [],
   "source": [
    "texto_colunas = \";\".join(colunas)\n",
    "\n",
    "colunas_modificadas = []\n",
    "for coluna in colunas:\n",
    "    if colunas.count(coluna) == 2 and coluna not in colunas_modificadas:\n",
    "        texto_colunas = texto_colunas.replace(\";\" + coluna + \";\", \";\" + coluna + \"_1;\", 1)\n",
    "        colunas_modificadas.append(coluna)\n",
    "colunas = texto_colunas.split(';')\n"
   ]
  },
  {
   "cell_type": "code",
   "execution_count": null,
   "metadata": {},
   "outputs": [],
   "source": [
    "#add colunas na  tabela\n",
    "for empresa in fundamentos:\n",
    "    fundamentos[empresa].columns = colunas"
   ]
  },
  {
   "cell_type": "code",
   "execution_count": null,
   "metadata": {},
   "outputs": [],
   "source": [
    "#analisar valores vazios\n",
    "\n",
    "valores_vazios = dict.fromkeys(colunas, 0)\n",
    "total_linhas = 0\n",
    "\n",
    "for empresa in fundamentos:\n",
    "    tabela = fundamentos[empresa]\n",
    "    total_linhas += tabela.shape[0]\n",
    "    for coluna in colunas:\n",
    "        qtd_vazios = pd.isnull(tabela[coluna]).sum()\n",
    "        valores_vazios[coluna] += qtd_vazios\n",
    "\n",
    "\n",
    "\n",
    "\n",
    "\n",
    "\n"
   ]
  },
  {
   "cell_type": "code",
   "execution_count": null,
   "metadata": {},
   "outputs": [],
   "source": [
    "remover_colunas = []\n",
    "for coluna in valores_vazios:\n",
    "    if valores_vazios[coluna] > 50:\n",
    "        remover_colunas.append(coluna)\n",
    "for empresa in fundamentos:\n",
    "    fundamentos[empresa] = fundamentos[empresa].drop(remover_colunas, axis=1)\n",
    "    fundamentos[empresa] = fundamentos[empresa].ffill()\n",
    "    #teste\n",
    "    "
   ]
  },
  {
   "cell_type": "code",
   "execution_count": null,
   "metadata": {},
   "outputs": [],
   "source": []
  }
 ],
 "metadata": {
  "kernelspec": {
   "display_name": "Python 3 (ipykernel)",
   "language": "python",
   "name": "python3"
  },
  "language_info": {
   "codemirror_mode": {
    "name": "ipython",
    "version": 3
   },
   "file_extension": ".py",
   "mimetype": "text/x-python",
   "name": "python",
   "nbconvert_exporter": "python",
   "pygments_lexer": "ipython3",
   "version": "3.11.6"
  }
 },
 "nbformat": 4,
 "nbformat_minor": 5
}
